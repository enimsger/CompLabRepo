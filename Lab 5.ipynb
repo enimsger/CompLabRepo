{
 "cells": [
  {
   "cell_type": "markdown",
   "id": "3e921eed-ed15-43f4-a11a-a9a111690d71",
   "metadata": {},
   "source": [
    "Objective: Write a program to calculate the gravitational force between two planets given their masses\n",
    "and the distance between them.\n",
    "Instructions:\n",
    "• Import the NumPy library.\n",
    "• Define a variable for the gravitational constant, G, with a value of 6.674e-11 (N m²/kg²).\n",
    "• Create two NumPy arrays, masses and distances, to store the masses of the planets (in kilograms) and\n",
    "the distances between them (in meters), respectively.\n",
    "• Use a loop to iterate over the elements of the masses and distances arrays.\n",
    "• For each pair of planets, calculate the gravitational force using the formula: F = G * (m1 * m2) / d²,\n",
    "where m1 and m2 are the masses of the planets, and d is the distance between them.\n",
    "• Print the gravitational force for each pair of planets."
   ]
  },
  {
   "cell_type": "code",
   "execution_count": 3,
   "id": "e1f987fc-9857-4d61-9bc0-9ed539a13b3a",
   "metadata": {},
   "outputs": [
    {
     "name": "stdout",
     "output_type": "stream",
     "text": [
      "Gravitational force between planet 1 and planet 2: 3.543e+22 N\n"
     ]
    }
   ],
   "source": [
    "import numpy as np\n",
    "\n",
    "\n",
    "G = 6.674e-11  # N m²/kg²\n",
    "\n",
    "masses = np.array([5.97e24, 1.99e30])  \n",
    "distances = np.array([1.496e11, 4.22e12])  \n",
    "\n",
    "for i in range(len(masses)):\n",
    "    for j in range(i + 1, len(masses)):\n",
    "        m1 = masses[i]\n",
    "        m2 = masses[j]\n",
    "        d = distances[i]\n",
    "        \n",
    "        force = G * (m1 * m2) / d**2\n",
    "        \n",
    "        print(f\"Gravitational force between planet {i+1} and planet {j+1}: {force:.3e} N\")"
   ]
  },
  {
   "cell_type": "code",
   "execution_count": null,
   "id": "6cf088e6-e5d5-45b2-9c8c-3d0640c2856e",
   "metadata": {},
   "outputs": [],
   "source": [
    "Objective: Write a program to calculate the horizontal and vertical positions of a projectile at different time\n",
    "intervals, given its initial velocity and launch angle.\n",
    "Instructions:\n",
    "• Import the NumPy library.\n",
    "• Define variables for the initial velocity (v0), launch angle (theta), and acceleration due to gravity (g, with a\n",
    "value of 9.81 m/s²).\n",
    "• Convert the launch angle from degrees to radians.\n",
    "• Create a NumPy array time_intervals to represent different time intervals (in seconds) after the launch.\n",
    "• Use a loop to iterate over the time_intervals array.\n",
    "• For each time interval, calculate the horizontal position (x = v0 * cos(theta) * t) and the vertical position\n",
    "(y = v0 * sin(theta) * t - 0.5 * g * t²).\n",
    "• Print the time interval along with the corresponding horizontal and vertical positions."
   ]
  },
  {
   "cell_type": "code",
   "execution_count": 4,
   "id": "18f82a46-085f-4f4f-8a5c-a079e02c6364",
   "metadata": {},
   "outputs": [
    {
     "name": "stdout",
     "output_type": "stream",
     "text": [
      "Time: 0.00 s | Horizontal Position (x): 0.00 m | Vertical Position (y): 0.00 m\n",
      "Time: 1.00 s | Horizontal Position (x): 35.36 m | Vertical Position (y): 30.45 m\n",
      "Time: 2.00 s | Horizontal Position (x): 70.71 m | Vertical Position (y): 51.09 m\n",
      "Time: 3.00 s | Horizontal Position (x): 106.07 m | Vertical Position (y): 61.92 m\n",
      "Time: 4.00 s | Horizontal Position (x): 141.42 m | Vertical Position (y): 62.94 m\n",
      "Time: 5.00 s | Horizontal Position (x): 176.78 m | Vertical Position (y): 54.15 m\n",
      "Time: 6.00 s | Horizontal Position (x): 212.13 m | Vertical Position (y): 35.55 m\n",
      "Time: 7.00 s | Horizontal Position (x): 247.49 m | Vertical Position (y): 7.14 m\n",
      "Time: 8.00 s | Horizontal Position (x): 282.84 m | Vertical Position (y): -31.08 m\n",
      "Time: 9.00 s | Horizontal Position (x): 318.20 m | Vertical Position (y): -79.11 m\n",
      "Time: 10.00 s | Horizontal Position (x): 353.55 m | Vertical Position (y): -136.95 m\n"
     ]
    }
   ],
   "source": [
    "import numpy as np\n",
    "\n",
    "v0 = 50\n",
    "theta = 45\n",
    "g = 9.81\n",
    "\n",
    "theta_rad = np.radians(theta)\n",
    "\n",
    "time_intervals = np.linspace(0, 10, 11)\n",
    "\n",
    "for t in time_intervals:\n",
    "    x = v0 * np.cos(theta_rad) * t\n",
    "    y = v0 * np.sin(theta_rad) * t - 0.5 * g * t**2\n",
    "    print(f\"Time: {t:.2f} s | Horizontal Position (x): {x:.2f} m | Vertical Position (y): {y:.2f} m\")\n"
   ]
  },
  {
   "cell_type": "code",
   "execution_count": null,
   "id": "2850a084-c269-4ced-b3f9-0db86bc986e5",
   "metadata": {},
   "outputs": [],
   "source": [
    "Objective: Write a program to calculate the total resistance of a circuit with resistors in series and in\n",
    "parallel.\n",
    "Instructions:\n",
    "• Import the NumPy library.\n",
    "• Create two NumPy arrays, resistors_series and resistors_parallel, to store the resistance values (in\n",
    "ohms) of resistors in series and parallel configurations, respectively.\n",
    "• Use a loop to iterate over the resistors_series array and calculate the total resistance in series by\n",
    "summing up all the resistance values.\n",
    "• Use a loop to iterate over the resistors_parallel array and calculate the total resistance in parallel using\n",
    "the formula: 1 / R_total = 1 / R1 + 1 / R2 + ... + 1 / Rn, where Rn is the resistance of each resistor in\n",
    "parallel.\n",
    "• Print the total resistance for both series and parallel configurations."
   ]
  },
  {
   "cell_type": "code",
   "execution_count": 5,
   "id": "1667d419-a4a3-4bde-86d2-f945abede0f8",
   "metadata": {},
   "outputs": [
    {
     "name": "stdout",
     "output_type": "stream",
     "text": [
      "Total resistance in series: 60 ohms\n",
      "Total resistance in parallel: 5.454545454545454 ohms\n"
     ]
    }
   ],
   "source": [
    "import numpy as np\n",
    "\n",
    "resistors_series = np.array([10, 20, 30])\n",
    "resistors_parallel = np.array([10, 20, 30])\n",
    "\n",
    "total_resistance_series = 0\n",
    "for r in resistors_series:\n",
    "    total_resistance_series += r\n",
    "\n",
    "total_resistance_parallel = 0\n",
    "for r in resistors_parallel:\n",
    "    total_resistance_parallel += 1 / r\n",
    "total_resistance_parallel = 1 / total_resistance_parallel\n",
    "\n",
    "print(f\"Total resistance in series: {total_resistance_series} ohms\")\n",
    "print(f\"Total resistance in parallel: {total_resistance_parallel} ohms\")\n"
   ]
  },
  {
   "cell_type": "code",
   "execution_count": null,
   "id": "3ee36d7e-9d74-4d04-b3db-41a936be0c45",
   "metadata": {},
   "outputs": [],
   "source": []
  }
 ],
 "metadata": {
  "kernelspec": {
   "display_name": "Python 3 (ipykernel)",
   "language": "python",
   "name": "python3"
  },
  "language_info": {
   "codemirror_mode": {
    "name": "ipython",
    "version": 3
   },
   "file_extension": ".py",
   "mimetype": "text/x-python",
   "name": "python",
   "nbconvert_exporter": "python",
   "pygments_lexer": "ipython3",
   "version": "3.12.8"
  }
 },
 "nbformat": 4,
 "nbformat_minor": 5
}
