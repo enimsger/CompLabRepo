{
 "cells": [
  {
   "cell_type": "markdown",
   "id": "71645603-8404-45b3-a3b5-edf2879f520c",
   "metadata": {},
   "source": [
    "### Lab 1\n",
    "***\n",
    "    Problem 1:\n",
    "        First, we prompt the user to enter a value for acceleration. We then set a variable equal to the user's input. Then we do the same for time. After this we print out the resulting displacement by typing the equation for displacement with respect to time and acceleration into the print statments using the previously established variables. Note that when using these integers in the print statement you must use the int() format to convert your numbers from a string to an integer in the print statement.\n",
    "\n",
    "    Problem 2: \n",
    "        First, we establish the value of acceleration due to gravity as 9.8, then we prompt the user the same way as problem one this time asking for a velocity. In the final print statement, we again use these now-defined variables to determine the maximum height of the object using the same int() format as before. \n",
    "\n",
    "    Problem 3:\n",
    "        Just like the other two problems we ask for the user to input a value for two different values and then assign each of these values to their own variable. After this, we print out the result with the equation embedded within the print statement using the int() function.\n",
    "***\n",
    "Possible Corrections:\n",
    "    All of these solutions include the embedded equations in the final print statement which slightly overcomplicates the use of the variables, next time I will set an addition variable equal to an equation rather than just including the variable in the print statement to avoid using the int(). Possible errors include the int() function rounding the numbers before calculating the result giving a slightly inaccurate answer."
   ]
  },
  {
   "cell_type": "markdown",
   "id": "73bca86c-a6cd-4034-880e-162029b641f3",
   "metadata": {},
   "source": [
    "### Lab 4\n",
    "***\n",
    "Note: in problems one and three I used the function float() when establishing variables through the user's input and for some reason, Jupyter Notebook had an error with this however when run in Spyder the code works as intended.  \n",
    "***\n",
    "    Problem 1:\n",
    "        I started by using the float() and input() functions we asked the user to input an x component and a y component for the vector. Then we defined their variable by assigning it to a tuple. Then we made an additional variable named magnitude and set it equal to the equation for the magnitude of a vector using the variables previously established in the tuple. Also because we used functions in the math library we imported math at the start of the code.\n",
    "\n",
    "    problem 2:\n",
    "        We first created a list of the first few prime numbers, We then used the .extend function to add a couple more prime numbers to the end of our list. Then print out specific values in the list using 0 or -1 as the index to get the first and last index. Then I created two more lists one including the first three primes using [:3] then combined lists by adding two other lists together. Finally to get the reversed list I just used the .reverse Function.\n",
    "\n",
    "    Problem 3:\n",
    "        To start I created a dictionary that defined each planet with its name and gravitational value. By using the float() and input() functions I prompt the user for a planet and mass. for Planet I made sure to use .capitalize() to make sure if they typed a planet in lowercase it would still register in the dictionary. Then I used if and else statements to see if the user input a valid planet and if so to give their weight on that planet, and if they input and invalid planet it would print the error statement."
   ]
  },
  {
   "cell_type": "markdown",
   "id": "a54d00f6-56be-4d6f-bc80-88a40b6cc49e",
   "metadata": {},
   "source": [
    "### Lab 5\n",
    "***\n",
    "Note: Both Problems required the numpy library so to start all code I used the line \"import numpy as np\" \n",
    "***\n",
    "    Problem 1:\n",
    "        I started by establishing the gravitational constant with the given value in the prompt, then I created two arrays using the np.array command that included the masses and distances between planets. I then had a nested for loop to run through each array and set variables equal to mass one, mass two, and total distance. I then defined the variable of force equal to the gravitational force between the two planets and printed the result in an f-string to help with formatting and accessing the variables in the arrays.\n",
    "\n",
    "    Problem 2:\n",
    "        I first set three variables to initial velocity, gravitational acceleration, and theta. I then used the .radian function to convert theta from degrees to radians. After this, I made an array with the function linspace to create an array from 0 to 10 divided into 11 values making one value per second starting at 0. I then looped through this array with equations solving for the x and y values at every given interval and printed out these values for every second."
   ]
  },
  {
   "cell_type": "code",
   "execution_count": null,
   "id": "857a16ad-4897-4e25-918c-f1a073539fe2",
   "metadata": {},
   "outputs": [],
   "source": []
  },
  {
   "cell_type": "code",
   "execution_count": null,
   "id": "fb779d59-9ed5-4100-9259-cc141e622574",
   "metadata": {},
   "outputs": [],
   "source": []
  }
 ],
 "metadata": {
  "kernelspec": {
   "display_name": "Python 3 (ipykernel)",
   "language": "python",
   "name": "python3"
  },
  "language_info": {
   "codemirror_mode": {
    "name": "ipython",
    "version": 3
   },
   "file_extension": ".py",
   "mimetype": "text/x-python",
   "name": "python",
   "nbconvert_exporter": "python",
   "pygments_lexer": "ipython3",
   "version": "3.12.8"
  }
 },
 "nbformat": 4,
 "nbformat_minor": 5
}
