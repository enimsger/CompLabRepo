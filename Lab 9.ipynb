{
 "cells": [
  {
   "cell_type": "markdown",
   "id": "c3c2e842-861f-4ecd-ac1d-a4ac6325d778",
   "metadata": {},
   "source": [
    "Example 2: vector rotation\n",
    "Right a function that takes a vector as (x, y) and an angle in degrees, and\n",
    "returns the image of the vector under rotation by theta as a numpy array.\n",
    "Practice calling your function and unpacking its result.\n",
    "Hint: Use rotation matrix and np.dot\n"
   ]
  },
  {
   "cell_type": "code",
   "execution_count": 13,
   "id": "549735bf-26a7-411f-897a-477b3e4e74b4",
   "metadata": {},
   "outputs": [
    {
     "name": "stdout",
     "output_type": "stream",
     "text": [
      "original vector: (4, 3)\n",
      "Rotated vector by 90: -3.00,  4.00)\n"
     ]
    }
   ],
   "source": [
    "import numpy as np\n",
    "\n",
    "def rotate_vector(vector, theta_degrees):\n",
    "    theta_radians = np.radians(theta_degrees)\n",
    "    rotation_matrix = np.array ([\n",
    "       [ np.cos(theta_radians), -np.sin(theta_radians)], \n",
    "        [np.sin(theta_radians), np.cos(theta_radians)]\n",
    "        ])\n",
    "    rotated_vector = np.dot(rotation_matrix, vector)\n",
    "    return rotated_vector\n",
    "\n",
    "v=(4,3)\n",
    "theta = 90\n",
    "\n",
    "rotated = rotate_vector(v,theta)\n",
    "\n",
    "x_rotated, y_rotated = rotated\n",
    "print (f\"original vector: {v}\")\n",
    "print (f\"Rotated vector by {theta}: {x_rotated:.2f}, {y_rotated: .2f})\")"
   ]
  },
  {
   "cell_type": "markdown",
   "id": "65626a47-8d64-46b7-b0cb-96322f85656f",
   "metadata": {},
   "source": [
    "Coin Flip Example:\n",
    "Write a code that simulates coin flips and returns the total number of heads after 100 flips.\n",
    "1. Using random.default_rng() create 100 random numbers and assign it to an array\n",
    "called samples\n",
    "2. Convert the numbers in samples to True or False using samples < 0.5, sign the\n",
    "results to an array called flips.\n",
    "3. Count the number of heads by adding up the items in flips."
   ]
  },
  {
   "cell_type": "code",
   "execution_count": 10,
   "id": "cffc5f70-f9fe-41af-9b48-9a9d7a025423",
   "metadata": {},
   "outputs": [
    {
     "name": "stdout",
     "output_type": "stream",
     "text": [
      "Number of heads (True values): 49\n"
     ]
    }
   ],
   "source": [
    "import numpy as np\n",
    "from numpy.random import random as rand\n",
    "\n",
    "data = rand(100)\n",
    "flips = data < 0.5\n",
    "num_heads = np.sum(flips)\n",
    "print(\"Number of heads (True values):\", num_heads)"
   ]
  },
  {
   "cell_type": "code",
   "execution_count": null,
   "id": "94b67dfc-dfe2-42be-b463-648ec0f99ebd",
   "metadata": {},
   "outputs": [],
   "source": []
  },
  {
   "cell_type": "code",
   "execution_count": null,
   "id": "b125ee23-ade5-4c47-87aa-0db8b1dadd1d",
   "metadata": {},
   "outputs": [],
   "source": []
  }
 ],
 "metadata": {
  "kernelspec": {
   "display_name": "Python 3 (ipykernel)",
   "language": "python",
   "name": "python3"
  },
  "language_info": {
   "codemirror_mode": {
    "name": "ipython",
    "version": 3
   },
   "file_extension": ".py",
   "mimetype": "text/x-python",
   "name": "python",
   "nbconvert_exporter": "python",
   "pygments_lexer": "ipython3",
   "version": "3.12.8"
  }
 },
 "nbformat": 4,
 "nbformat_minor": 5
}
