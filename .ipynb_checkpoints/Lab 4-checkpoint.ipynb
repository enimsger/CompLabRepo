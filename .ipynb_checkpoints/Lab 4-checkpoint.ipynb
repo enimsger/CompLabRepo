{
 "cells": [
  {
   "cell_type": "markdown",
   "id": "25420f5e-de01-41b0-8ace-b6671488f8bf",
   "metadata": {},
   "source": [
    "Exercise 1:\n",
    "Objective: Use tuples to represent 2D vector\n",
    "components.\n",
    "Description:\n",
    "• Ask the user to input the x and y components of a\n",
    "vector.\n",
    "• Store these components in a tuple.\n",
    "• Calculate the magnitude of the vector.\n",
    "• Print the components and the magnitude."
   ]
  },
  {
   "cell_type": "code",
   "execution_count": 17,
   "id": "6b3c1bed-7353-450d-a7d6-a1dd8a710519",
   "metadata": {},
   "outputs": [
    {
     "ename": "<class 'TypeError'>",
     "evalue": "float() argument must be a string or a real number, not 'PyodideFuture'",
     "output_type": "error",
     "traceback": [
      "\u001b[0;31m---------------------------------------------------------------------------\u001b[0m",
      "\u001b[0;31mTypeError\u001b[0m                                 Traceback (most recent call last)",
      "Cell \u001b[0;32mIn[17], line 3\u001b[0m\n\u001b[1;32m      1\u001b[0m \u001b[38;5;28;01mimport\u001b[39;00m \u001b[38;5;21;01mmath\u001b[39;00m\n\u001b[0;32m----> 3\u001b[0m float_x \u001b[38;5;241m=\u001b[39m \u001b[38;5;28;43mfloat\u001b[39;49m\u001b[43m(\u001b[49m\u001b[38;5;28;43minput\u001b[39;49m\u001b[43m(\u001b[49m\u001b[38;5;124;43m'\u001b[39;49m\u001b[38;5;124;43minput a x component for your vector:\u001b[39;49m\u001b[38;5;124;43m'\u001b[39;49m\u001b[43m)\u001b[49m\u001b[43m)\u001b[49m\n\u001b[1;32m      4\u001b[0m float_y \u001b[38;5;241m=\u001b[39m \u001b[38;5;28mfloat\u001b[39m(\u001b[38;5;28minput\u001b[39m(\u001b[38;5;124m'\u001b[39m\u001b[38;5;124minput a y component for your vector:\u001b[39m\u001b[38;5;124m'\u001b[39m))\n\u001b[1;32m      5\u001b[0m vector \u001b[38;5;241m=\u001b[39m (float_x, float_y)\n",
      "\u001b[0;31mTypeError\u001b[0m: float() argument must be a string or a real number, not 'PyodideFuture'"
     ]
    }
   ],
   "source": [
    "import math\n",
    "\n",
    "float_x = float(input('input a x component for your vector:'))\n",
    "float_y = float(input('input a y component for your vector:'))\n",
    "vector = (float_x, float_y)\n",
    "magnitude = math.sqrt((vector[0]*vector[0]) + (vector[1]*vector[1]))\n",
    "print('components: x = ', float_x, 'y = ', float_y, 'magnitude = ', magnitude)"
   ]
  },
  {
   "cell_type": "code",
   "execution_count": 12,
   "id": "37891ddf-8c0a-4c5e-9e78-8f69f50c743e",
   "metadata": {},
   "outputs": [
    {
     "name": "stdout",
     "output_type": "stream",
     "text": [
      "First prime = 2, Last prime = 19\n",
      "First three primes =  [2, 3, 5]\n",
      "Combined list of primes =  [2, 3, 5, 7, 11, 13, 17, 19, 23, 29, 31]\n",
      "Reversed list of primes =  [19, 17, 13, 11, 7, 5, 3, 2]\n"
     ]
    }
   ],
   "source": [
    "prime = [2, 3, 5, 7, 11]\n",
    "prime.extend([13, 17, 19])\n",
    "first_prime = prime[0]\n",
    "last_prime = prime[-1]\n",
    "print(f\"First prime = {first_prime}, Last prime = {last_prime}\")\n",
    "three_primes = prime[:3]\n",
    "print(\"First three primes = \", three_primes)\n",
    "other_primes = [23, 29, 31]\n",
    "combined_primes = prime + other_primes\n",
    "print(\"Combined list of primes = \", combined_primes)\n",
    "prime.reverse()\n",
    "print(\"Reversed list of primes = \", prime)"
   ]
  },
  {
   "cell_type": "markdown",
   "id": "c30f04f8-b115-4ce0-b6e3-a2ed78f7d5bc",
   "metadata": {},
   "source": [
    "Exercise 3:\n",
    "Objective: Use a dictionary to store “g” for each planet, then calculate the\n",
    "weight on a given planet.\n",
    "Description:\n",
    "• Create a dictionary including the eight planets as keys and their value for g\n",
    "as values.\n",
    "• Get the mass of the user in kg and their desired planet.\n",
    "• Use the planet the user enters to extract the value of its g from the\n",
    "dictionary and return the weight of the user on that planet."
   ]
  },
  {
   "cell_type": "code",
   "execution_count": 13,
   "id": "7c7f8415-09cb-4eb0-b0b6-fa3c2c8e8d4e",
   "metadata": {},
   "outputs": [
    {
     "ename": "<class 'TypeError'>",
     "evalue": "float() argument must be a string or a real number, not 'PyodideFuture'",
     "output_type": "error",
     "traceback": [
      "\u001b[0;31m---------------------------------------------------------------------------\u001b[0m",
      "\u001b[0;31mTypeError\u001b[0m                                 Traceback (most recent call last)",
      "Cell \u001b[0;32mIn[13], line 11\u001b[0m\n\u001b[1;32m      1\u001b[0m planet_g \u001b[38;5;241m=\u001b[39m {\n\u001b[1;32m      2\u001b[0m     \u001b[38;5;124m'\u001b[39m\u001b[38;5;124mMercury\u001b[39m\u001b[38;5;124m'\u001b[39m: \u001b[38;5;241m3.7\u001b[39m,\n\u001b[1;32m      3\u001b[0m     \u001b[38;5;124m'\u001b[39m\u001b[38;5;124mVenus\u001b[39m\u001b[38;5;124m'\u001b[39m: \u001b[38;5;241m8.87\u001b[39m,\n\u001b[0;32m   (...)\u001b[0m\n\u001b[1;32m      9\u001b[0m     \u001b[38;5;124m'\u001b[39m\u001b[38;5;124mNeptune\u001b[39m\u001b[38;5;124m'\u001b[39m: \u001b[38;5;241m11.15\u001b[39m\n\u001b[1;32m     10\u001b[0m            }\n\u001b[0;32m---> 11\u001b[0m mass \u001b[38;5;241m=\u001b[39m \u001b[38;5;28;43mfloat\u001b[39;49m\u001b[43m(\u001b[49m\u001b[38;5;28;43minput\u001b[39;49m\u001b[43m(\u001b[49m\u001b[38;5;124;43m\"\u001b[39;49m\u001b[38;5;124;43mEnter your mass in kg: \u001b[39;49m\u001b[38;5;124;43m\"\u001b[39;49m\u001b[43m)\u001b[49m\u001b[43m)\u001b[49m\n\u001b[1;32m     12\u001b[0m planet \u001b[38;5;241m=\u001b[39m \u001b[38;5;28minput\u001b[39m(\u001b[38;5;124m\"\u001b[39m\u001b[38;5;124mEnter the name of the planet you want to calculate your weight on (e.g., Earth, Mars, etc.): \u001b[39m\u001b[38;5;124m\"\u001b[39m)\u001b[38;5;241m.\u001b[39mcapitalize()\n\u001b[1;32m     13\u001b[0m \u001b[38;5;28;01mif\u001b[39;00m planet \u001b[38;5;129;01min\u001b[39;00m planet_g:\n",
      "\u001b[0;31mTypeError\u001b[0m: float() argument must be a string or a real number, not 'PyodideFuture'"
     ]
    },
    {
     "name": "stdin",
     "output_type": "stream",
     "text": [
      "Enter your mass in kg:  \n"
     ]
    }
   ],
   "source": [
    "planet_g = {\n",
    "    'Mercury': 3.7,\n",
    "    'Venus': 8.87,\n",
    "    'Earth': 9.81,\n",
    "    'Mars': 3.71,\n",
    "    'Jupiter': 24.79,\n",
    "    'Saturn': 10.44,\n",
    "    'Uranus': 8.69,\n",
    "    'Neptune': 11.15\n",
    "           }\n",
    "mass = float(input(\"Enter your mass in kg: \"))\n",
    "planet = input(\"Enter the name of the planet you want to calculate your weight on: \").capitalize()\n",
    "if planet in planet_g:\n",
    "    print(f\"Your weight on {planet} is {weight:.2f} Newtons\")\n",
    "else:\n",
    "    print(\"Invalid planet name. Please enter a valid planet.\")"
   ]
  },
  {
   "cell_type": "code",
   "execution_count": null,
   "id": "55f3dc0f-0272-4d92-ad6c-3d62b6fd9a89",
   "metadata": {},
   "outputs": [],
   "source": []
  }
 ],
 "metadata": {
  "kernelspec": {
   "display_name": "Python 3 (ipykernel)",
   "language": "python",
   "name": "python3"
  },
  "language_info": {
   "codemirror_mode": {
    "name": "ipython",
    "version": 3
   },
   "file_extension": ".py",
   "mimetype": "text/x-python",
   "name": "python",
   "nbconvert_exporter": "python",
   "pygments_lexer": "ipython3",
   "version": "3.12.8"
  }
 },
 "nbformat": 4,
 "nbformat_minor": 5
}
