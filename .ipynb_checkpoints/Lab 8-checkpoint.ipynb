{
 "cells": [
  {
   "cell_type": "markdown",
   "id": "7496be9c-4b79-4cfb-86a0-1a4fc91faa74",
   "metadata": {},
   "source": [
    "Example 1-1"
   ]
  },
  {
   "cell_type": "code",
   "execution_count": null,
   "id": "2034167e-888a-4411-aa85-b7aaf21ef343",
   "metadata": {},
   "outputs": [],
   "source": [
    "import numpy as np\n",
    "import matplotlib.pyplot as plt\n",
    "\n",
    "data_set = np.loadtxt(\"HIVseries.csv\", delimiter = ',')\n",
    "\n",
    "time_Intervals = np.linspace(0,10,101)\n",
    "alpha = 1\n",
    "beta = 2\n",
    "B = 0\n",
    "A = 3\n",
    "viral_Load = A*np.power((np.e),alpha*time_Intervals) + B*np.power((np.e),-beta*time_Intervals)\n",
    "\n",
    "plt.figure()\n",
    "plt.subplot(1,3,1)\n",
    "plt.plot(time_Intervals, viral_Load)\n",
    "\n",
    "alpha = 2\n",
    "beta = 5\n",
    "B = 10\n",
    "A = 1\n",
    "viral_Load = A*np.power((np.e),alpha*time_Intervals) + B*np.power((np.e),-beta*time_Intervals)\n",
    "\n",
    "plt.subplot(1,3,2)\n",
    "plt.plot(time_Intervals, viral_Load, \"r\")\n",
    "\n",
    "alpha = 9\n",
    "beta = 15\n",
    "B = 30\n",
    "A = 20\n",
    "viral_Load = A*np.power((np.e),alpha*time_Intervals) + B*np.power((np.e),-beta*time_Intervals)\n",
    "\n",
    "plt.subplot(1,3,3)\n",
    "plt.plot(time_Intervals, viral_Load, \"g\")\n",
    "plt.tight_layout()\n",
    "plt.show()\n",
    "\n"
   ]
  },
  {
   "cell_type": "markdown",
   "id": "eb400418-42e0-44cf-b3a1-bb9f9d6a8d96",
   "metadata": {},
   "source": [
    "Example 1-2"
   ]
  },
  {
   "cell_type": "code",
   "execution_count": null,
   "id": "5844ee18-e6f0-4f82-8a03-8e561e288199",
   "metadata": {},
   "outputs": [],
   "source": [
    "import numpy as np\n",
    "import matplotlib.pyplot as plt\n",
    "\n",
    "hiv_data = np.loadtxt(\"HIVseries.csv\", delimiter = ',')\n",
    "time_days = hiv_data[:,0]\n",
    "concentration = hiv_data[:,1]\n",
    "plt.figure()\n",
    "plt.plot(time_days,concentration, \"r*\")\n",
    "plt.show()"
   ]
  },
  {
   "cell_type": "markdown",
   "id": "d6943fb7-d578-4033-b8f4-e2d6726858c1",
   "metadata": {},
   "source": [
    "Example 2-1"
   ]
  },
  {
   "cell_type": "code",
   "execution_count": null,
   "id": "08f160b6-86bd-4a39-91bf-2d4fe6c2c755",
   "metadata": {},
   "outputs": [],
   "source": [
    "import numpy as np\n",
    "import matplotlib.pyplot as plt\n",
    "\n",
    "time_Intervals = np.linspace(0,2,101)\n",
    "\n",
    "A = 1\n",
    "t = 1\n",
    "W = A*(np.power(np.e, -time_Intervals/t)) - 1 + time_Intervals/t\n",
    "\n",
    "plt.figure()\n",
    "plt.subplot(1,3,1)\n",
    "plt.plot(time_Intervals, W)\n",
    "plt.legend(['A = 1, t = 1']) \n",
    "A = 2\n",
    "t = 8\n",
    "W = A*(np.power(np.e, -time_Intervals/t)) - 1 + time_Intervals/t\n",
    "\n",
    "plt.subplot(1,3,2)\n",
    "plt.plot(time_Intervals, W, \"r\")\n",
    "plt.legend(['A = 2, t = 8']) \n",
    "A = 17\n",
    "t = 7\n",
    "W = A*(np.power(np.e, -time_Intervals/t)) - 1 + time_Intervals/t\n",
    "\n",
    "plt.subplot(1,3,3)\n",
    "plt.plot(time_Intervals, W, \"g\")\n",
    "plt.legend(['A = 17, t = 7']) \n",
    "plt.tight_layout()\n",
    "plt.show()"
   ]
  }
 ],
 "metadata": {
  "kernelspec": {
   "display_name": "Python 3 (ipykernel)",
   "language": "python",
   "name": "python3"
  },
  "language_info": {
   "codemirror_mode": {
    "name": "ipython",
    "version": 3
   },
   "file_extension": ".py",
   "mimetype": "text/x-python",
   "name": "python",
   "nbconvert_exporter": "python",
   "pygments_lexer": "ipython3",
   "version": "3.12.8"
  }
 },
 "nbformat": 4,
 "nbformat_minor": 5
}
