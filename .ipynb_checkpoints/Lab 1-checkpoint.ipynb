{
 "cells": [
  {
   "cell_type": "markdown",
   "id": "a4e63b2a-50b1-4b6b-a4cd-c2e3c0520d4c",
   "metadata": {},
   "source": [
    "### Practice Problem 1\n",
    "***\n",
    "Question: Suppose an object starts from rest and accelerates uniformly. If\n",
    "the acceleration is a and the time for which this acceleration is\n",
    "applied is t, write a code that takes a and t from the user and\n",
    "prints the final position s of the object\n",
    "***\n",
    "This question refers to the following equation:\n",
    "$\\Delta$X = $v_{i}$t + $\\frac{1}{2}$a$t^{2}$\n",
    "\n",
    "Knowing this, the code should look like this:\n",
    "\n"
   ]
  },
  {
   "cell_type": "code",
   "execution_count": 4,
   "id": "ca30d55d-e353-4c52-af2c-967ec8939161",
   "metadata": {},
   "outputs": [
    {
     "name": "stdout",
     "output_type": "stream",
     "text": [
      "Enter an acceleration in meters per second:\n"
     ]
    },
    {
     "name": "stdin",
     "output_type": "stream",
     "text": [
      " 20\n"
     ]
    },
    {
     "name": "stdout",
     "output_type": "stream",
     "text": [
      "Enter a time in seconds:\n"
     ]
    },
    {
     "name": "stdin",
     "output_type": "stream",
     "text": [
      " 5\n"
     ]
    },
    {
     "name": "stdout",
     "output_type": "stream",
     "text": [
      "after accelerating at  20  meters per second for  5 seconds, your displacement is  250.0 meters.\n"
     ]
    }
   ],
   "source": [
    "print('Enter an acceleration in meters per second:')\n",
    "a = input()\n",
    "print('Enter a time in seconds:')\n",
    "t = input()\n",
    "print('after accelerating at ', a, ' meters per second for ', t, 'seconds, your displacement is ', int(t)*int(t)*0.5*int(a), 'meters.')"
   ]
  },
  {
   "cell_type": "markdown",
   "id": "42ef2aa7-9eb9-4e5a-bb14-1a70d7ea94a6",
   "metadata": {},
   "source": [
    "### Practice Problem 2\n",
    "***\n",
    "Question: A ball is thrown upwards with an initial velocity of v. Write a code\n",
    "that takes v from the user and prints the maximum height it\n",
    "reaches. Assume acceleration due to gravity g = 9.8 meters per second(downwards).\n",
    "Make sure your code is nice and has enough comments.\n",
    "***\n",
    "This question refers to the following equation:\n",
    "$v_{f}^{2}$ = $v_{i}^{2}$ - 2g$\\Delta$Y\n",
    "\n",
    "Knowing this, the code should look like this:"
   ]
  },
  {
   "cell_type": "code",
   "execution_count": 12,
   "id": "3c493c78-fc35-4741-ad91-7c2bcd9cc877",
   "metadata": {},
   "outputs": [
    {
     "name": "stdout",
     "output_type": "stream",
     "text": [
      "Enter a velocity upwards in meters per second:\n"
     ]
    },
    {
     "name": "stdin",
     "output_type": "stream",
     "text": [
      " 11\n"
     ]
    },
    {
     "name": "stdout",
     "output_type": "stream",
     "text": [
      "The maximum height the object reaches is  6.173469387755102 meters.\n"
     ]
    }
   ],
   "source": [
    "\n",
    "g = 9.8\n",
    "print('Enter a velocity upwards in meters per second:')\n",
    "v = input()\n",
    "print('The maximum height the object reaches is ', (int(v)*int(v))/(2*g), 'meters.')"
   ]
  },
  {
   "cell_type": "markdown",
   "id": "4d008a6c-94a9-4c04-a5cf-b0fb5e5295b8",
   "metadata": {},
   "source": [
    "### Practice Problem 3\n",
    "***\n",
    "Question:A box of mass m is sliding on a surface with a coefficient of kinetic\n",
    "friction uk. Write a code that takes m and uk from the user and\n",
    "prints the force of friction acting on the box. Assume acceleration due\n",
    "to gravity.\n",
    "***\n",
    "This Question refers to the following equation: f = $\\mu$N \n",
    "\n",
    "Knowing this, the code should look like this:"
   ]
  },
  {
   "cell_type": "code",
   "execution_count": 13,
   "id": "ccb4b54b-648d-4c6d-9ae8-88d72b9ba67d",
   "metadata": {},
   "outputs": [
    {
     "name": "stdout",
     "output_type": "stream",
     "text": [
      "Enter a mass in Kg\n"
     ]
    },
    {
     "name": "stdin",
     "output_type": "stream",
     "text": [
      " 20\n"
     ]
    },
    {
     "name": "stdout",
     "output_type": "stream",
     "text": [
      "Enter a Coefficient of friction:\n"
     ]
    },
    {
     "name": "stdin",
     "output_type": "stream",
     "text": [
      " 1\n"
     ]
    },
    {
     "name": "stdout",
     "output_type": "stream",
     "text": [
      "The force due to friction equals  196.0 .\n"
     ]
    }
   ],
   "source": [
    "print('Enter a mass in Kg')\n",
    "m = input()\n",
    "print('Enter a Coefficient of friction:')\n",
    "c = input()\n",
    "print('The force due to friction equals ', int(m) * 9.8 * int(c), '.')"
   ]
  },
  {
   "cell_type": "code",
   "execution_count": null,
   "id": "67efa671-047d-4d6d-836d-f2be19a2abda",
   "metadata": {},
   "outputs": [],
   "source": []
  }
 ],
 "metadata": {
  "kernelspec": {
   "display_name": "Python 3 (ipykernel)",
   "language": "python",
   "name": "python3"
  },
  "language_info": {
   "codemirror_mode": {
    "name": "ipython",
    "version": 3
   },
   "file_extension": ".py",
   "mimetype": "text/x-python",
   "name": "python",
   "nbconvert_exporter": "python",
   "pygments_lexer": "ipython3",
   "version": "3.12.8"
  }
 },
 "nbformat": 4,
 "nbformat_minor": 5
}
