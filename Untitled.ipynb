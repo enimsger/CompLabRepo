{
 "cells": [
  {
   "cell_type": "code",
   "execution_count": null,
   "id": "caee96f4-dfff-43e6-ba13-8f79cc88960e",
   "metadata": {},
   "outputs": [],
   "source": [
    "import numpy as np\n",
    "data_set = np.loadtxt(\"HIVseries.csv\", delimmiter = ',')"
   ]
  }
 ],
 "metadata": {
  "kernelspec": {
   "display_name": "Python 3 (ipykernel)",
   "language": "python",
   "name": "python3"
  },
  "language_info": {
   "codemirror_mode": {
    "name": "ipython",
    "version": 3
   },
   "file_extension": ".py",
   "mimetype": "text/x-python",
   "name": "python",
   "nbconvert_exporter": "python",
   "pygments_lexer": "ipython3",
   "version": "3.12.8"
  }
 },
 "nbformat": 4,
 "nbformat_minor": 5
}
