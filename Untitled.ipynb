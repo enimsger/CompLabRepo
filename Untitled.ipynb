{
 "cells": [
  {
   "cell_type": "markdown",
   "id": "71645603-8404-45b3-a3b5-edf2879f520c",
   "metadata": {},
   "source": [
    "### Notebook Basics\n",
    "***\n",
    "Command Vs Edit mode\n",
    "Command is used to manipulate cells change their order and easily copy and paste cells to other locations.\n",
    "\n",
    "Edit is used to type within each cell and has a standard keyboard configuration."
   ]
  },
  {
   "cell_type": "markdown",
   "id": "73bca86c-a6cd-4034-880e-162029b641f3",
   "metadata": {},
   "source": [
    "### Coding\n",
    "***\n",
    "Python can be used to also plot data sets as well as establish variables like any tyical python environment."
   ]
  },
  {
   "cell_type": "markdown",
   "id": "5522341d-fd50-47e2-afca-6fd91e1020a4",
   "metadata": {},
   "source": [
    "### Markdown\n",
    "***\n",
    "Markdown can be used to write down equations aswell as make tables. Mostly for organizing information and jotting down notes."
   ]
  },
  {
   "cell_type": "code",
   "execution_count": null,
   "id": "2232de6a-a843-463a-9d68-96cdcdf98785",
   "metadata": {},
   "outputs": [],
   "source": []
  },
  {
   "cell_type": "code",
   "execution_count": null,
   "id": "857a16ad-4897-4e25-918c-f1a073539fe2",
   "metadata": {},
   "outputs": [],
   "source": []
  }
 ],
 "metadata": {
  "kernelspec": {
   "display_name": "Python 3 (ipykernel)",
   "language": "python",
   "name": "python3"
  },
  "language_info": {
   "codemirror_mode": {
    "name": "ipython",
    "version": 3
   },
   "file_extension": ".py",
   "mimetype": "text/x-python",
   "name": "python",
   "nbconvert_exporter": "python",
   "pygments_lexer": "ipython3",
   "version": "3.12.8"
  }
 },
 "nbformat": 4,
 "nbformat_minor": 5
}
